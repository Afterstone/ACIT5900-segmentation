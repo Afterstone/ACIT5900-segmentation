version https://git-lfs.github.com/spec/v1
oid sha256:024cc8375280d35197edb52a0e3e05a4015b8886effceffeebf5b5050470b35e
size 15002
