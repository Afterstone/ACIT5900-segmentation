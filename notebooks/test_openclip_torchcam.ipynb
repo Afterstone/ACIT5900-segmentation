{
 "cells": [
  {
   "cell_type": "code",
   "execution_count": null,
   "metadata": {},
   "outputs": [],
   "source": [
    "# Code adapted from:\n",
    "#   - GradCAM: https://colab.research.google.com/github/kevinzakka/clip_playground/blob/main/CLIP_GradCAM_Visualization.ipynb#scrollTo=caPbAhFlRBwT\n",
    "#   - OpenCLIP: https://github.com/mlfoundations/open_clip"
   ]
  },
  {
   "cell_type": "code",
   "execution_count": null,
   "metadata": {},
   "outputs": [],
   "source": [
    "import urllib.request\n",
    "import typing as t\n",
    "from collections import defaultdict\n",
    "\n",
    "import matplotlib.pyplot as plt\n",
    "import numpy as np\n",
    "import open_clip\n",
    "import torch as T\n",
    "import torch.nn.functional as F\n",
    "import torchvision.transforms.v2 as TVT\n",
    "from PIL import Image\n",
    "from scipy.ndimage import gaussian_filter\n",
    "from tqdm import trange"
   ]
  },
  {
   "cell_type": "code",
   "execution_count": null,
   "metadata": {},
   "outputs": [],
   "source": [
    "from open_clip import pretrained\n",
    "\n",
    "for model_name, weights in pretrained.list_pretrained():\n",
    "    if 'convnext' not in model_name.lower():\n",
    "        continue\n",
    "    print(f\"Model name: {model_name}\")\n",
    "    print(f\"Weights: {weights}\")\n",
    "    print()\n",
    "\n",
    "# Find vit types.\n",
    "print(set(\"-\".join(m.split('-')[:2]) for m,w in pretrained.list_pretrained() if 'vit' in m.lower()))"
   ]
  },
  {
   "cell_type": "code",
   "execution_count": null,
   "metadata": {},
   "outputs": [],
   "source": [
    "# model_name, model_weights_name = 'convnext_xxlarge', 'laion2b_s34b_b82k_augreg'\n",
    "model_name, model_weights_name = 'convnext_base', 'laion400m_s13b_b51k'\n",
    "\n",
    "model, _, preprocess = open_clip.create_model_and_transforms(\n",
    "    model_name, \n",
    "    pretrained=model_weights_name, \n",
    "    device='cuda',\n",
    ")\n",
    "model = model.eval()  # type: ignore\n",
    "tokenizer = open_clip.get_tokenizer(model_name)"
   ]
  },
  {
   "cell_type": "code",
   "execution_count": null,
   "metadata": {},
   "outputs": [],
   "source": [
    "from torchvision.io.image import read_image\n",
    "from torchvision.transforms.functional import normalize, resize, to_pil_image\n",
    "from torchcam.methods import GradCAM\n",
    "from copy import deepcopy"
   ]
  },
  {
   "cell_type": "code",
   "execution_count": null,
   "metadata": {},
   "outputs": [],
   "source": [
    "# image_url = 'https://images2.minutemediacdn.com/image/upload/c_crop,h_706,w_1256,x_0,y_64/f_auto,q_auto,w_1100/v1554995050/shape/mentalfloss/516438-istock-637689912.jpg'\n",
    "image_url = \"https://static.toiimg.com/photo/79693966.cms\"\n",
    "# image_url = \"https://live.staticflickr.com/2365/2238423921_1275e83f71_b.jpg\"\n",
    "image_path = 'image.jpg'\n",
    "urllib.request.urlretrieve(image_url, image_path)\n",
    "\n",
    "texts = [\n",
    "    # 'hamburger',\n",
    "    # 'lettuce',\n",
    "    'pommes frites',\n",
    "    # 'tomato',\n",
    "]\n",
    "tokenized_text = tokenizer(texts)\n",
    "\n",
    "cell_model = deepcopy(model)\n",
    "visual_model = cell_model.visual\n",
    "output_stage = visual_model.trunk.stages[-1]\n",
    "with T.cuda.amp.autocast():\n",
    "    with T.no_grad():\n",
    "        text_features = cell_model.encode_text(tokenized_text.cuda())\n",
    "\n",
    "    with Image.open(image_path) as img:\n",
    "        image: T.Tensor = preprocess(img).unsqueeze(0).cuda()\n",
    "\n",
    "    with GradCAM(\n",
    "        visual_model, \n",
    "        target_layer=output_stage\n",
    "    ) as cam_extractor:\n",
    "        # Preprocess your data and feed it to the model\n",
    "        out = visual_model(image)\n",
    "        # Retrieve the CAM by passing the class index and the model output\n",
    "        print(f\"Out shape: {out.shape}\")\n",
    "        print(f\"Text features shape: {text_features.shape}\")\n",
    "        activation_map = cam_extractor(text_features, out)"
   ]
  }
 ],
 "metadata": {
  "kernelspec": {
   "display_name": ".venv",
   "language": "python",
   "name": "python3"
  },
  "language_info": {
   "codemirror_mode": {
    "name": "ipython",
    "version": 3
   },
   "file_extension": ".py",
   "mimetype": "text/x-python",
   "name": "python",
   "nbconvert_exporter": "python",
   "pygments_lexer": "ipython3",
   "version": "3.10.12"
  }
 },
 "nbformat": 4,
 "nbformat_minor": 2
}
