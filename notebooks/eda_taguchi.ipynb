{
 "cells": [
  {
   "cell_type": "code",
   "execution_count": null,
   "metadata": {},
   "outputs": [],
   "source": [
    "import json\n",
    "from pathlib import Path\n",
    "\n",
    "import numpy as np\n",
    "import pandas as pd"
   ]
  },
  {
   "cell_type": "code",
   "execution_count": null,
   "metadata": {},
   "outputs": [],
   "source": [
    "res_path = Path('results/sam_vit_b_01ec64.pth.json')\n",
    "\n",
    "with open(res_path, 'r') as f:\n",
    "    res = json.load(f)\n",
    "\n",
    "data = []\n",
    "for r in res:\n",
    "    data.append({\n",
    "        'aAcc': np.mean(r['aAcc']),\n",
    "        'mIoU': np.mean(r['mIoU']),\n",
    "        'CLIP_MODEL_NAME': r['params']['CLIP_MODEL_PARAMS']['model'],\n",
    "        'CLIP_MODEL_WEIGHTS': r['params']['CLIP_MODEL_PARAMS']['weights'],\n",
    "        'CLIP_NORMALIZE_ATTENTION': r['params']['CLIP_NORMALIZE_ATTENTION'],\n",
    "        'SAM_PROPOSER_NORM': r['params']['SAM_PROPOSER_NORM'],\n",
    "        'SAM_PROPOSER_N_POINTS': r['params']['SAM_PROPOSER_N_POINTS'],\n",
    "        'XAI_METHOD': r['params']['XAI_METHOD'],\n",
    "    })\n",
    "\n",
    "df = pd.DataFrame(data)"
   ]
  },
  {
   "cell_type": "code",
   "execution_count": null,
   "metadata": {},
   "outputs": [],
   "source": [
    "# For each unique CLIP_MODEL_NAME, calculate both avg and std for mIoU and aAcc.\n",
    "df.groupby('CLIP_NORMALIZE_ATTENTION').agg({\n",
    "    'mIoU': ['mean', 'std'],\n",
    "    'aAcc': ['mean', 'std'],\n",
    "})"
   ]
  }
 ],
 "metadata": {
  "kernelspec": {
   "display_name": ".venv",
   "language": "python",
   "name": "python3"
  },
  "language_info": {
   "codemirror_mode": {
    "name": "ipython",
    "version": 3
   },
   "file_extension": ".py",
   "mimetype": "text/x-python",
   "name": "python",
   "nbconvert_exporter": "python",
   "pygments_lexer": "ipython3",
   "version": "3.10.12"
  }
 },
 "nbformat": 4,
 "nbformat_minor": 2
}
