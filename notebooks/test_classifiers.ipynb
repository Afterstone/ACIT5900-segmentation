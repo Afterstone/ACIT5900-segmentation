version https://git-lfs.github.com/spec/v1
oid sha256:08af4c5b11369bba842ecb9be5cc8ea45b302e761154f64af19161f458dad988
size 21386
