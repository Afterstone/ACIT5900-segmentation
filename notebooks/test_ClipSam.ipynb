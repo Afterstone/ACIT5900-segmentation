version https://git-lfs.github.com/spec/v1
oid sha256:b0b17a3c0a5bd60570f530a365cc2cf56c58a1598299a45d87679e8cbb2b2c8d
size 1965650
