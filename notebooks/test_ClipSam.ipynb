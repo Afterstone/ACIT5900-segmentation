version https://git-lfs.github.com/spec/v1
oid sha256:7e77b340d029c701192660bbbb98bd2e1639ae6378f0c3e73e2150d7d2ac3e87
size 11526
