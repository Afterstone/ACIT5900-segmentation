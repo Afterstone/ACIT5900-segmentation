version https://git-lfs.github.com/spec/v1
oid sha256:6b28824c93ef3965817a3e65384ffe6894ea8d481894f184973f99c65a4d8018
size 158904
