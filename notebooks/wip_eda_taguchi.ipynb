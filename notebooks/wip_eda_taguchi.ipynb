{
 "cells": [
  {
   "cell_type": "code",
   "execution_count": null,
   "metadata": {},
   "outputs": [],
   "source": [
    "import json\n",
    "from pathlib import Path\n",
    "\n",
    "import matplotlib.pyplot as plt\n",
    "import numpy as np\n",
    "import pandas as pd\n",
    "import seaborn as sns"
   ]
  },
  {
   "cell_type": "code",
   "execution_count": null,
   "metadata": {},
   "outputs": [],
   "source": [
    "def bootstrap(data: list[float], n: int = 10000):\n",
    "    return np.random.choice(data, size=(n, len(data)), replace=True)"
   ]
  },
  {
   "cell_type": "code",
   "execution_count": null,
   "metadata": {},
   "outputs": [],
   "source": [
    "res_path = Path('results/sam_vit_b_01ec64.pth.json')\n",
    "\n",
    "with open(res_path, 'r') as f:\n",
    "    res = json.load(f)\n",
    "\n",
    "data = []\n",
    "for r in res:\n",
    "    data.append({\n",
    "        'aAcc': np.mean(r['aAcc']),\n",
    "        'mIoU': np.mean(r['mIoU']),\n",
    "        'CLIP_MODEL_NAME': r['params']['CLIP_MODEL_PARAMS']['model'],\n",
    "        'CLIP_MODEL_WEIGHTS': r['params']['CLIP_MODEL_PARAMS']['weights'],\n",
    "        'CLIP_NORMALIZE_ATTENTION': r['params']['CLIP_NORMALIZE_ATTENTION'],\n",
    "        'SAM_PROPOSER_NORM': r['params']['SAM_PROPOSER_NORM'],\n",
    "        'SAM_PROPOSER_N_POINTS': r['params']['SAM_PROPOSER_N_POINTS'],\n",
    "        'XAI_METHOD': r['params']['XAI_METHOD'],\n",
    "    })\n",
    "\n",
    "df = pd.DataFrame(data)"
   ]
  },
  {
   "cell_type": "code",
   "execution_count": null,
   "metadata": {},
   "outputs": [],
   "source": [
    "for column in df.columns:\n",
    "    if column in ['aAcc', 'mIoU', 'CLIP_MODEL_WEIGHTS']:\n",
    "        continue\n",
    "\n",
    "    results = []\n",
    "    for value in df[column].unique():\n",
    "        sub_df = df[df[column] == value]\n",
    "        results.append({\n",
    "            'column': column,\n",
    "            'value': value,\n",
    "            'mIoU_avg': sub_df['mIoU'].mean(),\n",
    "            'mIoU_std': sub_df['mIoU'].std(),\n",
    "            'aAcc_avg': sub_df['aAcc'].mean(),\n",
    "            'aAcc_std': sub_df['aAcc'].std(),\n",
    "        })\n",
    "\n",
    "    results = pd.DataFrame(results)\n",
    "    results = results.sort_values('mIoU_avg', ascending=False)\n",
    "    print(results)\n",
    "    print()"
   ]
  },
  {
   "cell_type": "code",
   "execution_count": null,
   "metadata": {},
   "outputs": [],
   "source": [
    "df_sorted = df.sort_values('mIoU', ascending=False)\n",
    "print(df_sorted)"
   ]
  },
  {
   "cell_type": "code",
   "execution_count": null,
   "metadata": {},
   "outputs": [],
   "source": [
    "res_path = Path('results/sam_vit_l_0b3195.pth.json')\n",
    "\n",
    "with open(res_path, 'r') as f:\n",
    "    res = json.load(f)\n",
    "\n",
    "data = []\n",
    "for r in res:\n",
    "    data.append({\n",
    "        'aAcc': np.mean(r['aAcc']),\n",
    "        'mIoU': np.mean(r['mIoU']),\n",
    "        'CLIP_MODEL_NAME': r['params']['CLIP_MODEL_PARAMS']['model'],\n",
    "        'CLIP_MODEL_WEIGHTS': r['params']['CLIP_MODEL_PARAMS']['weights'],\n",
    "        'CLIP_NORMALIZE_ATTENTION': r['params']['CLIP_NORMALIZE_ATTENTION'],\n",
    "        'SAM_PROPOSER_NORM': r['params']['SAM_PROPOSER_NORM'],\n",
    "        'SAM_PROPOSER_N_POINTS': r['params']['SAM_PROPOSER_N_POINTS'],\n",
    "        'XAI_METHOD': r['params']['XAI_METHOD'],\n",
    "    })\n",
    "\n",
    "df = pd.DataFrame(data)"
   ]
  },
  {
   "cell_type": "code",
   "execution_count": null,
   "metadata": {},
   "outputs": [],
   "source": [
    "for column in df.columns:\n",
    "    if column in ['aAcc', 'mIoU', 'CLIP_MODEL_WEIGHTS']:\n",
    "        continue\n",
    "\n",
    "    results = []\n",
    "    for value in df[column].unique():\n",
    "        sub_df = df[df[column] == value]\n",
    "        results.append({\n",
    "            'column': column,\n",
    "            'value': value,\n",
    "            'mIoU_avg': sub_df['mIoU'].mean(),\n",
    "            'mIoU_std': sub_df['mIoU'].std(),\n",
    "            'aAcc_avg': sub_df['aAcc'].mean(),\n",
    "            'aAcc_std': sub_df['aAcc'].std(),\n",
    "        })\n",
    "\n",
    "    results = pd.DataFrame(results)\n",
    "    results = results.sort_values('mIoU_avg', ascending=False)\n",
    "    print(results)\n",
    "    print()"
   ]
  },
  {
   "cell_type": "code",
   "execution_count": null,
   "metadata": {},
   "outputs": [],
   "source": [
    "df_sorted = df.sort_values('mIoU', ascending=False)\n",
    "print(df_sorted)"
   ]
  },
  {
   "cell_type": "code",
   "execution_count": null,
   "metadata": {},
   "outputs": [],
   "source": [
    "# res_path = Path('results/sam_vit_l_0b3195.pth.json')\n",
    "# res_path = Path('results/sam_vit_b_01ec64.pth.json')\n",
    "res_path = Path('results/sam_vit_h_4b8939.pth.json')\n",
    "\n",
    "with open(res_path, 'r') as f:\n",
    "    res = json.load(f)\n",
    "\n",
    "data = []\n",
    "for r in res:\n",
    "    data.append({\n",
    "        'aAcc': np.mean(r['aAcc']),\n",
    "        'mIoU': np.mean(r['mIoU']),\n",
    "        'CLIP_MODEL_NAME': r['params']['CLIP_MODEL_PARAMS']['model'],\n",
    "        'CLIP_MODEL_WEIGHTS': r['params']['CLIP_MODEL_PARAMS']['weights'],\n",
    "        'CLIP_NORMALIZE_ATTENTION': r['params']['CLIP_NORMALIZE_ATTENTION'],\n",
    "        'SAM_PROPOSER_NORM': r['params']['SAM_PROPOSER_NORM'],\n",
    "        'SAM_PROPOSER_N_POINTS': r['params']['SAM_PROPOSER_N_POINTS'],\n",
    "        'XAI_METHOD': r['params']['XAI_METHOD'],\n",
    "    })\n",
    "\n",
    "df = pd.DataFrame(data)\n",
    "\n",
    "col = 'SAM_PROPOSER_N_POINTS'\n",
    "df_col = df[['aAcc', 'mIoU', col]]\n",
    "\n",
    "n_bootstraps = 10_000\n",
    "n_labels = len(df_col[col].unique())\n",
    "max_val = df_col['mIoU'].max()\n",
    "fig, axes = plt.subplots(n_labels, 1, figsize=(10, 10))\n",
    "for i, value in enumerate(df_col[col].unique()):\n",
    "    ax = axes[i]\n",
    "    df_selected = df_col[df_col[col] == value]\n",
    "    mious = df_selected['mIoU'].to_list()\n",
    "    bootstraped = np.mean(bootstrap(mious, n_bootstraps), axis=1)\n",
    "    sns.histplot(bootstraped, kde=True, label=value, ax=axes[i])\n",
    "    mean_bootstrapped = np.mean(bootstraped)\n",
    "    ax.axvline(mean_bootstrapped, color='red', linestyle='--')\n",
    "    ax.set_title(f'{col}={value}')\n",
    "    ax.set_xlabel('mIoU')\n",
    "    ax.set_ylabel('Frequency')\n",
    "    ax.legend()\n",
    "    ax.set_xlim(0, max_val)\n",
    "plt.tight_layout()"
   ]
  }
 ],
 "metadata": {
  "kernelspec": {
   "display_name": ".venv",
   "language": "python",
   "name": "python3"
  },
  "language_info": {
   "codemirror_mode": {
    "name": "ipython",
    "version": 3
   },
   "file_extension": ".py",
   "mimetype": "text/x-python",
   "name": "python",
   "nbconvert_exporter": "python",
   "pygments_lexer": "ipython3",
   "version": "3.10.12"
  }
 },
 "nbformat": 4,
 "nbformat_minor": 2
}
