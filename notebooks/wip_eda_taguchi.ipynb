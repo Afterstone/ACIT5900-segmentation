version https://git-lfs.github.com/spec/v1
oid sha256:c9082672732b68db38f83a30af27569684d0690a05aa0f5d55209d3d8ee61a50
size 7702
