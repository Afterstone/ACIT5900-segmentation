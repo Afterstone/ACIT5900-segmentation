version https://git-lfs.github.com/spec/v1
oid sha256:f63737c0225de28155ccd3fefe490c7e32849f1347dd987fc812ca4d81f31c23
size 6341
