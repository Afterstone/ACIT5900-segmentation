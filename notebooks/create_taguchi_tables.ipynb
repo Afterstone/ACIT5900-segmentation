version https://git-lfs.github.com/spec/v1
oid sha256:ebd4324d6c1399f7d3382f762963d58d533239a78c6aa3d30d0e02070b86941e
size 7919
