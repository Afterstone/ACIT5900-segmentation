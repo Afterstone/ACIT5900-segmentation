version https://git-lfs.github.com/spec/v1
oid sha256:94dbfdb801e3ed2155e9bebdfe604258f07f4c0eef0fcc73cfc3affb01ad5d0b
size 12599
