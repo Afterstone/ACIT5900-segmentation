version https://git-lfs.github.com/spec/v1
oid sha256:5b609164bee150375132abc2ff7c90b285537f4e2c2446ace5ae92d3726abc41
size 12599
