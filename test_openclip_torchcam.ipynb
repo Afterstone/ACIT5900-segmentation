{
 "cells": [
  {
   "cell_type": "code",
   "execution_count": 1,
   "metadata": {},
   "outputs": [],
   "source": [
    "# Code adapted from:\n",
    "#   - GradCAM: https://colab.research.google.com/github/kevinzakka/clip_playground/blob/main/CLIP_GradCAM_Visualization.ipynb#scrollTo=caPbAhFlRBwT\n",
    "#   - OpenCLIP: https://github.com/mlfoundations/open_clip"
   ]
  },
  {
   "cell_type": "code",
   "execution_count": 2,
   "metadata": {},
   "outputs": [
    {
     "name": "stderr",
     "output_type": "stream",
     "text": [
      "/home/invisiblex_gmail_com/workspace/segmentation/.venv/lib/python3.10/site-packages/tqdm/auto.py:21: TqdmWarning: IProgress not found. Please update jupyter and ipywidgets. See https://ipywidgets.readthedocs.io/en/stable/user_install.html\n",
      "  from .autonotebook import tqdm as notebook_tqdm\n"
     ]
    }
   ],
   "source": [
    "import typing as t\n",
    "import urllib.request\n",
    "from collections import defaultdict\n",
    "\n",
    "import matplotlib.pyplot as plt\n",
    "import numpy as np\n",
    "import open_clip\n",
    "import torch as T\n",
    "import torch.nn.functional as F\n",
    "import torchvision.transforms.v2 as TVT\n",
    "from PIL import Image\n",
    "from scipy.ndimage import gaussian_filter\n",
    "from tqdm import trange"
   ]
  },
  {
   "cell_type": "code",
   "execution_count": 3,
   "metadata": {},
   "outputs": [
    {
     "name": "stdout",
     "output_type": "stream",
     "text": [
      "Model name: convnext_base\n",
      "Weights: laion400m_s13b_b51k\n",
      "\n",
      "Model name: convnext_base_w\n",
      "Weights: laion2b_s13b_b82k\n",
      "\n",
      "Model name: convnext_base_w\n",
      "Weights: laion2b_s13b_b82k_augreg\n",
      "\n",
      "Model name: convnext_base_w\n",
      "Weights: laion_aesthetic_s13b_b82k\n",
      "\n",
      "Model name: convnext_base_w_320\n",
      "Weights: laion_aesthetic_s13b_b82k\n",
      "\n",
      "Model name: convnext_base_w_320\n",
      "Weights: laion_aesthetic_s13b_b82k_augreg\n",
      "\n",
      "Model name: convnext_large_d\n",
      "Weights: laion2b_s26b_b102k_augreg\n",
      "\n",
      "Model name: convnext_large_d_320\n",
      "Weights: laion2b_s29b_b131k_ft\n",
      "\n",
      "Model name: convnext_large_d_320\n",
      "Weights: laion2b_s29b_b131k_ft_soup\n",
      "\n",
      "Model name: convnext_xxlarge\n",
      "Weights: laion2b_s34b_b82k_augreg\n",
      "\n",
      "Model name: convnext_xxlarge\n",
      "Weights: laion2b_s34b_b82k_augreg_rewind\n",
      "\n",
      "Model name: convnext_xxlarge\n",
      "Weights: laion2b_s34b_b82k_augreg_soup\n",
      "\n",
      "{'xlm-roberta', 'coca_ViT-B', 'coca_ViT-L', 'ViT-bigG', 'ViT-SO400M', 'roberta-ViT', 'ViT-g', 'ViT-L', 'ViT-H', 'ViT-B'}\n"
     ]
    }
   ],
   "source": [
    "from open_clip import pretrained\n",
    "\n",
    "for model_name, weights in pretrained.list_pretrained():\n",
    "    if 'convnext' not in model_name.lower():\n",
    "        continue\n",
    "    print(f\"Model name: {model_name}\")\n",
    "    print(f\"Weights: {weights}\")\n",
    "    print()\n",
    "\n",
    "# Find vit types.\n",
    "print(set(\"-\".join(m.split('-')[:2]) for m,w in pretrained.list_pretrained() if 'vit' in m.lower()))"
   ]
  },
  {
   "cell_type": "code",
   "execution_count": 23,
   "metadata": {},
   "outputs": [],
   "source": [
    "# model_name, model_weights_name = 'convnext_xxlarge', 'laion2b_s34b_b82k_augreg'\n",
    "model_name, model_weights_name = 'convnext_base', 'laion400m_s13b_b51k'\n",
    "\n",
    "model, _, preprocess = open_clip.create_model_and_transforms(\n",
    "    model_name, \n",
    "    pretrained=model_weights_name, \n",
    "    device='cuda',\n",
    ")\n",
    "model = model.eval()  # type: ignore\n",
    "tokenizer = open_clip.get_tokenizer(model_name)"
   ]
  },
  {
   "cell_type": "code",
   "execution_count": 31,
   "metadata": {},
   "outputs": [],
   "source": [
    "from torchvision.io.image import read_image\n",
    "from torchvision.transforms.functional import normalize, resize, to_pil_image\n",
    "from torchcam.methods import GradCAM\n",
    "from copy import deepcopy"
   ]
  },
  {
   "cell_type": "code",
   "execution_count": 34,
   "metadata": {},
   "outputs": [
    {
     "name": "stdout",
     "output_type": "stream",
     "text": [
      "Out shape: torch.Size([1, 512])\n",
      "Text features shape: torch.Size([1, 512])\n"
     ]
    },
    {
     "ename": "ValueError",
     "evalue": "Incorrect `class_idx` argument value",
     "output_type": "error",
     "traceback": [
      "\u001b[0;31m---------------------------------------------------------------------------\u001b[0m",
      "\u001b[0;31mValueError\u001b[0m                                Traceback (most recent call last)",
      "Cell \u001b[0;32mIn[34], line 34\u001b[0m\n\u001b[1;32m     32\u001b[0m \u001b[38;5;28mprint\u001b[39m(\u001b[38;5;124mf\u001b[39m\u001b[38;5;124m\"\u001b[39m\u001b[38;5;124mOut shape: \u001b[39m\u001b[38;5;132;01m{\u001b[39;00mout\u001b[38;5;241m.\u001b[39mshape\u001b[38;5;132;01m}\u001b[39;00m\u001b[38;5;124m\"\u001b[39m)\n\u001b[1;32m     33\u001b[0m \u001b[38;5;28mprint\u001b[39m(\u001b[38;5;124mf\u001b[39m\u001b[38;5;124m\"\u001b[39m\u001b[38;5;124mText features shape: \u001b[39m\u001b[38;5;132;01m{\u001b[39;00mtext_features\u001b[38;5;241m.\u001b[39mshape\u001b[38;5;132;01m}\u001b[39;00m\u001b[38;5;124m\"\u001b[39m)\n\u001b[0;32m---> 34\u001b[0m activation_map \u001b[38;5;241m=\u001b[39m \u001b[43mcam_extractor\u001b[49m\u001b[43m(\u001b[49m\u001b[43mtext_features\u001b[49m\u001b[43m,\u001b[49m\u001b[43m \u001b[49m\u001b[43mout\u001b[49m\u001b[43m)\u001b[49m\n",
      "File \u001b[0;32m~/workspace/segmentation/.venv/lib/python3.10/site-packages/torchcam/methods/core.py:166\u001b[0m, in \u001b[0;36m_CAM.__call__\u001b[0;34m(self, class_idx, scores, normalized, **kwargs)\u001b[0m\n\u001b[1;32m    158\u001b[0m \u001b[38;5;28;01mdef\u001b[39;00m \u001b[38;5;21m__call__\u001b[39m(\n\u001b[1;32m    159\u001b[0m     \u001b[38;5;28mself\u001b[39m,\n\u001b[1;32m    160\u001b[0m     class_idx: Union[\u001b[38;5;28mint\u001b[39m, List[\u001b[38;5;28mint\u001b[39m]],\n\u001b[0;32m   (...)\u001b[0m\n\u001b[1;32m    164\u001b[0m ) \u001b[38;5;241m-\u001b[39m\u001b[38;5;241m>\u001b[39m List[Tensor]:\n\u001b[1;32m    165\u001b[0m     \u001b[38;5;66;03m# Integrity check\u001b[39;00m\n\u001b[0;32m--> 166\u001b[0m     \u001b[38;5;28;43mself\u001b[39;49m\u001b[38;5;241;43m.\u001b[39;49m\u001b[43m_precheck\u001b[49m\u001b[43m(\u001b[49m\u001b[43mclass_idx\u001b[49m\u001b[43m,\u001b[49m\u001b[43m \u001b[49m\u001b[43mscores\u001b[49m\u001b[43m)\u001b[49m\n\u001b[1;32m    168\u001b[0m     \u001b[38;5;66;03m# Compute CAM\u001b[39;00m\n\u001b[1;32m    169\u001b[0m     \u001b[38;5;28;01mreturn\u001b[39;00m \u001b[38;5;28mself\u001b[39m\u001b[38;5;241m.\u001b[39mcompute_cams(class_idx, scores, normalized, \u001b[38;5;241m*\u001b[39m\u001b[38;5;241m*\u001b[39mkwargs)\n",
      "File \u001b[0;32m~/workspace/segmentation/.venv/lib/python3.10/site-packages/torchcam/methods/core.py:152\u001b[0m, in \u001b[0;36m_CAM._precheck\u001b[0;34m(self, class_idx, scores)\u001b[0m\n\u001b[1;32m    148\u001b[0m \u001b[38;5;66;03m# Check class_idx value\u001b[39;00m\n\u001b[1;32m    149\u001b[0m \u001b[38;5;28;01mif\u001b[39;00m (\u001b[38;5;129;01mnot\u001b[39;00m \u001b[38;5;28misinstance\u001b[39m(class_idx, \u001b[38;5;28mint\u001b[39m) \u001b[38;5;129;01mor\u001b[39;00m class_idx \u001b[38;5;241m<\u001b[39m \u001b[38;5;241m0\u001b[39m) \u001b[38;5;129;01mand\u001b[39;00m (\n\u001b[1;32m    150\u001b[0m     \u001b[38;5;129;01mnot\u001b[39;00m \u001b[38;5;28misinstance\u001b[39m(class_idx, \u001b[38;5;28mlist\u001b[39m) \u001b[38;5;129;01mor\u001b[39;00m \u001b[38;5;28many\u001b[39m(_idx \u001b[38;5;241m<\u001b[39m \u001b[38;5;241m0\u001b[39m \u001b[38;5;28;01mfor\u001b[39;00m _idx \u001b[38;5;129;01min\u001b[39;00m class_idx)\n\u001b[1;32m    151\u001b[0m ):\n\u001b[0;32m--> 152\u001b[0m     \u001b[38;5;28;01mraise\u001b[39;00m \u001b[38;5;167;01mValueError\u001b[39;00m(\u001b[38;5;124m\"\u001b[39m\u001b[38;5;124mIncorrect `class_idx` argument value\u001b[39m\u001b[38;5;124m\"\u001b[39m)\n\u001b[1;32m    154\u001b[0m \u001b[38;5;66;03m# Check scores arg\u001b[39;00m\n\u001b[1;32m    155\u001b[0m \u001b[38;5;28;01mif\u001b[39;00m \u001b[38;5;28mself\u001b[39m\u001b[38;5;241m.\u001b[39m_score_used \u001b[38;5;129;01mand\u001b[39;00m \u001b[38;5;129;01mnot\u001b[39;00m \u001b[38;5;28misinstance\u001b[39m(scores, torch\u001b[38;5;241m.\u001b[39mTensor):\n",
      "\u001b[0;31mValueError\u001b[0m: Incorrect `class_idx` argument value"
     ]
    }
   ],
   "source": [
    "# image_url = 'https://images2.minutemediacdn.com/image/upload/c_crop,h_706,w_1256,x_0,y_64/f_auto,q_auto,w_1100/v1554995050/shape/mentalfloss/516438-istock-637689912.jpg'\n",
    "image_url = \"https://static.toiimg.com/photo/79693966.cms\"\n",
    "# image_url = \"https://live.staticflickr.com/2365/2238423921_1275e83f71_b.jpg\"\n",
    "image_path = 'image.jpg'\n",
    "# urllib.request.urlretrieve(image_url, image_path)\n",
    "\n",
    "texts = [\n",
    "    # 'hamburger',\n",
    "    # 'lettuce',\n",
    "    'pommes frites',\n",
    "    # 'tomato',\n",
    "]\n",
    "tokenized_text = tokenizer(texts)\n",
    "\n",
    "cell_model = deepcopy(model)\n",
    "visual_model = cell_model.visual\n",
    "output_stage = visual_model.trunk.stages[-1]\n",
    "with T.cuda.amp.autocast():\n",
    "    with T.no_grad():\n",
    "        text_features = cell_model.encode_text(tokenized_text.cuda())\n",
    "\n",
    "    with Image.open(image_path) as img:\n",
    "        image: T.Tensor = preprocess(img).unsqueeze(0).cuda()\n",
    "\n",
    "    with GradCAM(\n",
    "        visual_model, \n",
    "        target_layer=output_stage\n",
    "    ) as cam_extractor:\n",
    "        # Preprocess your data and feed it to the model\n",
    "        out = visual_model(image)\n",
    "        # Retrieve the CAM by passing the class index and the model output\n",
    "        print(f\"Out shape: {out.shape}\")\n",
    "        print(f\"Text features shape: {text_features.shape}\")\n",
    "        activation_map = cam_extractor(text_features, out)"
   ]
  }
 ],
 "metadata": {
  "kernelspec": {
   "display_name": ".venv",
   "language": "python",
   "name": "python3"
  },
  "language_info": {
   "codemirror_mode": {
    "name": "ipython",
    "version": 3
   },
   "file_extension": ".py",
   "mimetype": "text/x-python",
   "name": "python",
   "nbconvert_exporter": "python",
   "pygments_lexer": "ipython3",
   "version": "3.10.12"
  }
 },
 "nbformat": 4,
 "nbformat_minor": 2
}
